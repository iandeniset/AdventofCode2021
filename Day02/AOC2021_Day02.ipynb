{
 "cells": [
  {
   "cell_type": "code",
   "execution_count": 3,
   "metadata": {},
   "outputs": [],
   "source": [
    "import numpy as np"
   ]
  },
  {
   "cell_type": "markdown",
   "metadata": {},
   "source": [
    "# Load the Input"
   ]
  },
  {
   "cell_type": "code",
   "execution_count": 9,
   "metadata": {},
   "outputs": [
    {
     "name": "stdout",
     "output_type": "stream",
     "text": [
      "1000 1000\n"
     ]
    }
   ],
   "source": [
    "direction = np.genfromtxt('day02_input.txt', dtype='str', usecols=0)\n",
    "step = np.genfromtxt('day02_input.txt', dtype='int', usecols=1)\n",
    "print(direction.size, step.size)"
   ]
  },
  {
   "cell_type": "code",
   "execution_count": 14,
   "metadata": {},
   "outputs": [
    {
     "name": "stdout",
     "output_type": "stream",
     "text": [
      "1878 777\n",
      "1459206\n"
     ]
    }
   ],
   "source": [
    "x , z = 0, 0\n",
    "\n",
    "for (dir, delta) in zip(direction, step):\n",
    "    if dir == 'forward':\n",
    "        x = x + delta\n",
    "    if dir == 'up':\n",
    "        z = z - delta\n",
    "    if dir == 'down':\n",
    "        z = z + delta\n",
    "\n",
    "print(x, z)\n",
    "print(x * z)"
   ]
  },
  {
   "cell_type": "code",
   "execution_count": 18,
   "metadata": {},
   "outputs": [
    {
     "name": "stdout",
     "output_type": "stream",
     "text": [
      "1878 703160 777\n",
      "1320534480\n"
     ]
    }
   ],
   "source": [
    "x2, z2, aim = 0, 0, 0\n",
    "\n",
    "for (dir, delta) in zip(direction, step):\n",
    "    if dir == 'forward':\n",
    "        x2 = x2 + delta\n",
    "        z2 = z2 + (aim * delta)\n",
    "    if dir == 'up':\n",
    "        aim = aim - delta\n",
    "    if dir == 'down':\n",
    "        aim = aim + delta\n",
    "\n",
    "print(x2, z2, aim)\n",
    "print(x2 * z2)"
   ]
  }
 ],
 "metadata": {
  "interpreter": {
   "hash": "58cf50fd7b64b72ea0cfe2d1d9069ced91d99e3c25fefe28a41fb0294ac52741"
  },
  "kernelspec": {
   "display_name": "Python 3.8.3 64-bit ('base': conda)",
   "language": "python",
   "name": "python3"
  },
  "language_info": {
   "codemirror_mode": {
    "name": "ipython",
    "version": 3
   },
   "file_extension": ".py",
   "mimetype": "text/x-python",
   "name": "python",
   "nbconvert_exporter": "python",
   "pygments_lexer": "ipython3",
   "version": "3.8.3"
  },
  "orig_nbformat": 4
 },
 "nbformat": 4,
 "nbformat_minor": 2
}
