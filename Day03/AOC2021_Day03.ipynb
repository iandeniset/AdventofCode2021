{
 "cells": [
  {
   "cell_type": "code",
   "execution_count": 1,
   "metadata": {},
   "outputs": [],
   "source": [
    "import numpy as np"
   ]
  },
  {
   "cell_type": "markdown",
   "metadata": {},
   "source": [
    "# Load the Input"
   ]
  },
  {
   "cell_type": "code",
   "execution_count": 2,
   "metadata": {},
   "outputs": [],
   "source": [
    "# smelly but low on time this morning\n",
    "cols = np.genfromtxt('day03_input.txt', delimiter=[1,1,1,1,1,1,1,1,1,1,1,1])\n",
    "testD = np.genfromtxt('test.txt', delimiter=[1,1,1,1,1])"
   ]
  },
  {
   "cell_type": "code",
   "execution_count": 3,
   "metadata": {},
   "outputs": [
    {
     "name": "stdout",
     "output_type": "stream",
     "text": [
      "2502 1593\n",
      "3985686\n"
     ]
    }
   ],
   "source": [
    "gamma = []\n",
    "epsilon = []\n",
    "\n",
    "for col in range(cols.shape[1]):\n",
    "    zeros = (cols[:,col] == 0).sum()\n",
    "    ones = (cols[:,col] == 1).sum()\n",
    "    \n",
    "    if zeros > ones:\n",
    "        gamma.append(0)\n",
    "        epsilon.append(1)\n",
    "    else:\n",
    "        gamma.append(1)\n",
    "        epsilon.append(0)\n",
    "\n",
    "gamma = ''.join([str(i) for i in gamma])\n",
    "epsilon = ''.join([str(i) for i in epsilon])\n",
    "\n",
    "gammaDecimal = int(gamma, base=2)\n",
    "epsilonDecimal = int(epsilon, base=2)\n",
    "\n",
    "print(gammaDecimal, epsilonDecimal)\n",
    "print(gammaDecimal * epsilonDecimal)"
   ]
  },
  {
   "cell_type": "code",
   "execution_count": 4,
   "metadata": {},
   "outputs": [
    {
     "name": "stdout",
     "output_type": "stream",
     "text": [
      "101011011101\n",
      "2781 919\n",
      "2555739\n"
     ]
    }
   ],
   "source": [
    "oxygenRate = cols\n",
    "CO2Rate = cols\n",
    "\n",
    "for col in range(cols.shape[1]):\n",
    "    \n",
    "    zerosOxy = (oxygenRate[:,col] == 0).sum()\n",
    "    onesOxy = (oxygenRate[:,col] == 1).sum()\n",
    "    \n",
    "    if oxygenRate.shape[0] > 1:\n",
    "        if zerosOxy > onesOxy:\n",
    "            oxygenRate = oxygenRate[np.where(oxygenRate[:,col] == 0)]\n",
    "        if zerosOxy < onesOxy:\n",
    "            oxygenRate = oxygenRate[np.where(oxygenRate[:,col] == 1)]\n",
    "        if zerosOxy == onesOxy:\n",
    "            oxygenRate = oxygenRate[np.where(oxygenRate[:,col] == 1)]\n",
    "\n",
    "    zerosCO2 = (CO2Rate[:,col] == 0).sum()\n",
    "    onesCO2 = (CO2Rate[:,col] == 1).sum()\n",
    "\n",
    "    if CO2Rate.shape[0] > 1:\n",
    "        if zerosCO2 > onesCO2:\n",
    "            CO2Rate = CO2Rate[np.where(CO2Rate[:,col] == 1)]\n",
    "        if zerosCO2 < onesCO2:\n",
    "            CO2Rate = CO2Rate[np.where(CO2Rate[:,col] == 0)]\n",
    "        if zerosCO2 == onesCO2:\n",
    "            CO2Rate = CO2Rate[np.where(CO2Rate[:,col] == 0)]\n",
    "\n",
    "\n",
    "oxygenRate = ''.join([str(int(i)) for i in oxygenRate[0]])\n",
    "CO2Rate = ''.join([str(int(i)) for i in CO2Rate[0]])\n",
    "\n",
    "oxygenDecimal = int(oxygenRate, base=2)\n",
    "CO2Decimal = int(CO2Rate, base=2)\n",
    "\n",
    "print(oxygenDecimal, CO2Decimal)\n",
    "print(oxygenDecimal * CO2Decimal)"
   ]
  }
 ],
 "metadata": {
  "interpreter": {
   "hash": "58cf50fd7b64b72ea0cfe2d1d9069ced91d99e3c25fefe28a41fb0294ac52741"
  },
  "kernelspec": {
   "display_name": "Python 3.8.3 64-bit ('base': conda)",
   "language": "python",
   "name": "python3"
  },
  "language_info": {
   "codemirror_mode": {
    "name": "ipython",
    "version": 3
   },
   "file_extension": ".py",
   "mimetype": "text/x-python",
   "name": "python",
   "nbconvert_exporter": "python",
   "pygments_lexer": "ipython3",
   "version": "3.8.3"
  },
  "orig_nbformat": 4
 },
 "nbformat": 4,
 "nbformat_minor": 2
}
